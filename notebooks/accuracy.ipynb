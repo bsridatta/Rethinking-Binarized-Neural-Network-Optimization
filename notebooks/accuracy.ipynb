{
 "cells": [
  {
   "cell_type": "code",
   "execution_count": 1,
   "metadata": {},
   "outputs": [],
   "source": [
    "%matplotlib inline\n",
    "\n",
    "import os\n",
    "import unicodedata\n",
    "import pandas as pd\n",
    "\n",
    "import numpy\n",
    "import numpy as np\n",
    "import sympy\n",
    "\n",
    "import matplotlib.pyplot as plt\n",
    "import matplotlib.ticker as ticker\n",
    "import matplotlib.animation as animation\n",
    "\n",
    "from scipy.interpolate import make_interp_spline, BSpline\n",
    "from scipy.ndimage.filters import gaussian_filter1d\n",
    "\n",
    "from IPython.display import HTML\n",
    "from IPython import display\n",
    "\n",
    "s = sympy.symbols"
   ]
  },
  {
   "cell_type": "code",
   "execution_count": 27,
   "metadata": {},
   "outputs": [],
   "source": [
    "graphs = []\n",
    "log_path = \"/home/datta/lab/Rethinking-Binarized-Neural-Network-Optimization/hyperparameter_logs/acc/\"\n",
    "files = [\"pit6g2\",\"pit6g3\",\"pit6g4\"]\n",
    "colors = ['','','','blue','orange','green']\n",
    "\n",
    "files = [\"ta3\",\"ta4\",\"ta5\",\"va3\",\"va4\",\"va5\"]\n",
    "for file in files: #os.listdir(log_path):\n",
    "    df = pd.read_json(log_path+file+\".json\")\n",
    "    df = df[[1, 2]]\n",
    "    if file[0] == 't':\n",
    "        df[2] = gaussian_filter1d(df[2], sigma=100)\n",
    "    df['label'] = file.split(\".json\")[0]\n",
    "    df['color'] = colors[int(file[-1])]\n",
    "    if file[0] == 'v':\n",
    "        df['style'] = \"--\"\n",
    "    else:\n",
    "        df['style'] = \"-\"\n",
    "        \n",
    "    graphs.append(df)\n",
    "\n",
    "\n",
    "def best_acc(df):\n",
    "    return df[2].max()\n",
    "\n",
    "sorted_graphs = sorted(graphs, key = best_acc, reverse=True)"
   ]
  },
  {
   "cell_type": "code",
   "execution_count": 36,
   "metadata": {},
   "outputs": [
    {
     "name": "stderr",
     "output_type": "stream",
     "text": [
      "/usr/local/lib/python3.7/dist-packages/ipykernel_launcher.py:27: UserWarning: The handle <matplotlib.lines.Line2D object at 0x7fdff9480b70> has a label of '_nolegend_' which cannot be automatically added to the legend.\n",
      "/usr/local/lib/python3.7/dist-packages/ipykernel_launcher.py:27: UserWarning: The handle <matplotlib.lines.Line2D object at 0x7fdff8cd1cf8> has a label of '_nolegend_' which cannot be automatically added to the legend.\n",
      "/usr/local/lib/python3.7/dist-packages/ipykernel_launcher.py:27: UserWarning: The handle <matplotlib.lines.Line2D object at 0x7fdff8b58f60> has a label of '_nolegend_' which cannot be automatically added to the legend.\n"
     ]
    },
    {
     "data": {
      "image/png": "[encoded data removed]",
      "text/plain": [
       "<Figure size 432x288 with 1 Axes>"
      ]
     },
     "metadata": {
      "needs_background": "light"
     },
     "output_type": "display_data"
    }
   ],
   "source": [
    "%matplotlib inline\n",
    "fig, ax = plt.subplots(1, 1)\n",
    "_ = plt.rcParams['figure.figsize'] = (15, 5)\n",
    "\n",
    "labels = []\n",
    "for df in sorted_graphs:\n",
    "    _ = ax.plot(df[1]/909, df[2], df['color'][0], linestyle=df['style'][0])\n",
    "    labels.append(df['label'][0])\n",
    "\n",
    "#     print(df['label'][0])\n",
    "# _ = plt.ylim(0.8, 1)\n",
    "\n",
    "_ = plt.grid(True)\n",
    "_ = plt.xlabel(\"Number of Epochs\")\n",
    "_ = plt.ylabel(\"Accuracy\")\n",
    "\n",
    "\n",
    "labels = [\n",
    "    \"_nolegend_\",\n",
    "    r'$\\tau = 10^{-6}$',\n",
    "    \"_nolegend_\",\n",
    "    r'$\\tau = 10^{-5}$',\n",
    "    \"_nolegend_\",\n",
    "    r'$\\tau = 0$'\n",
    "]\n",
    "# g 5 y 4 b 3\n",
    "_ = ax.legend(labels, loc=4)\n"
   ]
  },
  {
   "cell_type": "code",
   "execution_count": 37,
   "metadata": {
    "scrolled": true
   },
   "outputs": [],
   "source": [
    "fig.savefig(\"acc_gamma_const.png\")"
   ]
  },
  {
   "cell_type": "code",
   "execution_count": 10,
   "metadata": {},
   "outputs": [
    {
     "data": {
      "text/plain": [
       "[         1         2 label color\n",
       " 0        1  0.340454   ta0  blue\n",
       " 1      211  0.340456   ta0  blue\n",
       " 2      331  0.340461   ta0  blue\n",
       " 3      351  0.340469   ta0  blue\n",
       " 4      401  0.340479   ta0  blue\n",
       " ..     ...       ...   ...   ...\n",
       " 995  89481  0.360150   ta0  blue\n",
       " 996  89571  0.360147   ta0  blue\n",
       " 997  89731  0.360146   ta0  blue\n",
       " 998  89881  0.360145   ta0  blue\n",
       " 999  89981  0.360144   ta0  blue\n",
       " \n",
       " [1000 rows x 4 columns],          1         2 label   color\n",
       " 0        1  0.399805   ta1  orange\n",
       " 1      211  0.399811   ta1  orange\n",
       " 2      331  0.399822   ta1  orange\n",
       " 3      351  0.399838   ta1  orange\n",
       " 4      401  0.399861   ta1  orange\n",
       " ..     ...       ...   ...     ...\n",
       " 995  89481  0.574443   ta1  orange\n",
       " 996  89571  0.574448   ta1  orange\n",
       " 997  89731  0.574452   ta1  orange\n",
       " 998  89881  0.574454   ta1  orange\n",
       " 999  89981  0.574455   ta1  orange\n",
       " \n",
       " [1000 rows x 4 columns],          1         2 label  color\n",
       " 0        1  0.367527   ta2  green\n",
       " 1      211  0.367532   ta2  green\n",
       " 2      331  0.367544   ta2  green\n",
       " 3      351  0.367561   ta2  green\n",
       " 4      401  0.367585   ta2  green\n",
       " ..     ...       ...   ...    ...\n",
       " 995  89481  0.527524   ta2  green\n",
       " 996  89571  0.527525   ta2  green\n",
       " 997  89731  0.527525   ta2  green\n",
       " 998  89881  0.527525   ta2  green\n",
       " 999  89981  0.527525   ta2  green\n",
       " \n",
       " [1000 rows x 4 columns]]"
      ]
     },
     "execution_count": 10,
     "metadata": {},
     "output_type": "execute_result"
    }
   ],
   "source": [
    "graphs"
   ]
  },
  {
   "cell_type": "code",
   "execution_count": 9,
   "metadata": {},
   "outputs": [
    {
     "data": {
      "text/html": [
       "<div>\n",
       "<style scoped>\n",
       "    .dataframe tbody tr th:only-of-type {\n",
       "        vertical-align: middle;\n",
       "    }\n",
       "\n",
       "    .dataframe tbody tr th {\n",
       "        vertical-align: top;\n",
       "    }\n",
       "\n",
       "    .dataframe thead th {\n",
       "        text-align: right;\n",
       "    }\n",
       "</style>\n",
       "<table border=\"1\" class=\"dataframe\">\n",
       "  <thead>\n",
       "    <tr style=\"text-align: right;\">\n",
       "      <th></th>\n",
       "      <th>1</th>\n",
       "      <th>2</th>\n",
       "      <th>label</th>\n",
       "      <th>color</th>\n",
       "    </tr>\n",
       "  </thead>\n",
       "  <tbody>\n",
       "    <tr>\n",
       "      <th>0</th>\n",
       "      <td>1</td>\n",
       "      <td>0.367527</td>\n",
       "      <td>ta2</td>\n",
       "      <td>green</td>\n",
       "    </tr>\n",
       "    <tr>\n",
       "      <th>1</th>\n",
       "      <td>211</td>\n",
       "      <td>0.367532</td>\n",
       "      <td>ta2</td>\n",
       "      <td>green</td>\n",
       "    </tr>\n",
       "    <tr>\n",
       "      <th>2</th>\n",
       "      <td>331</td>\n",
       "      <td>0.367544</td>\n",
       "      <td>ta2</td>\n",
       "      <td>green</td>\n",
       "    </tr>\n",
       "    <tr>\n",
       "      <th>3</th>\n",
       "      <td>351</td>\n",
       "      <td>0.367561</td>\n",
       "      <td>ta2</td>\n",
       "      <td>green</td>\n",
       "    </tr>\n",
       "    <tr>\n",
       "      <th>4</th>\n",
       "      <td>401</td>\n",
       "      <td>0.367585</td>\n",
       "      <td>ta2</td>\n",
       "      <td>green</td>\n",
       "    </tr>\n",
       "    <tr>\n",
       "      <th>...</th>\n",
       "      <td>...</td>\n",
       "      <td>...</td>\n",
       "      <td>...</td>\n",
       "      <td>...</td>\n",
       "    </tr>\n",
       "    <tr>\n",
       "      <th>995</th>\n",
       "      <td>89481</td>\n",
       "      <td>0.527524</td>\n",
       "      <td>ta2</td>\n",
       "      <td>green</td>\n",
       "    </tr>\n",
       "    <tr>\n",
       "      <th>996</th>\n",
       "      <td>89571</td>\n",
       "      <td>0.527525</td>\n",
       "      <td>ta2</td>\n",
       "      <td>green</td>\n",
       "    </tr>\n",
       "    <tr>\n",
       "      <th>997</th>\n",
       "      <td>89731</td>\n",
       "      <td>0.527525</td>\n",
       "      <td>ta2</td>\n",
       "      <td>green</td>\n",
       "    </tr>\n",
       "    <tr>\n",
       "      <th>998</th>\n",
       "      <td>89881</td>\n",
       "      <td>0.527525</td>\n",
       "      <td>ta2</td>\n",
       "      <td>green</td>\n",
       "    </tr>\n",
       "    <tr>\n",
       "      <th>999</th>\n",
       "      <td>89981</td>\n",
       "      <td>0.527525</td>\n",
       "      <td>ta2</td>\n",
       "      <td>green</td>\n",
       "    </tr>\n",
       "  </tbody>\n",
       "</table>\n",
       "<p>1000 rows × 4 columns</p>\n",
       "</div>"
      ],
      "text/plain": [
       "         1         2 label  color\n",
       "0        1  0.367527   ta2  green\n",
       "1      211  0.367532   ta2  green\n",
       "2      331  0.367544   ta2  green\n",
       "3      351  0.367561   ta2  green\n",
       "4      401  0.367585   ta2  green\n",
       "..     ...       ...   ...    ...\n",
       "995  89481  0.527524   ta2  green\n",
       "996  89571  0.527525   ta2  green\n",
       "997  89731  0.527525   ta2  green\n",
       "998  89881  0.527525   ta2  green\n",
       "999  89981  0.527525   ta2  green\n",
       "\n",
       "[1000 rows x 4 columns]"
      ]
     },
     "execution_count": 9,
     "metadata": {},
     "output_type": "execute_result"
    }
   ],
   "source": [
    "df"
   ]
  },
  {
   "cell_type": "code",
   "execution_count": 30,
   "metadata": {},
   "outputs": [
    {
     "ename": "TypeError",
     "evalue": "can't multiply sequence by non-int of type 'float'",
     "output_type": "error",
     "traceback": [
      "\u001b[0;31m----------------------------------------------------------\u001b[0m",
      "\u001b[0;31mTypeError\u001b[0m                Traceback (most recent call last)",
      "\u001b[0;32m<ipython-input-30-aa194eb9bdc9>\u001b[0m in \u001b[0;36m<module>\u001b[0;34m\u001b[0m\n\u001b[1;32m      1\u001b[0m \u001b[0mT\u001b[0m \u001b[0;34m=\u001b[0m \u001b[0mdf\u001b[0m\u001b[0;34m\u001b[0m\u001b[0;34m\u001b[0m\u001b[0m\n\u001b[0;32m----> 2\u001b[0;31m \u001b[0mxnew\u001b[0m \u001b[0;34m=\u001b[0m \u001b[0mnp\u001b[0m\u001b[0;34m.\u001b[0m\u001b[0mlinspace\u001b[0m\u001b[0;34m(\u001b[0m\u001b[0mT\u001b[0m\u001b[0;34m.\u001b[0m\u001b[0mmin\u001b[0m\u001b[0;34m(\u001b[0m\u001b[0;34m)\u001b[0m\u001b[0;34m,\u001b[0m\u001b[0mT\u001b[0m\u001b[0;34m.\u001b[0m\u001b[0mmax\u001b[0m\u001b[0;34m(\u001b[0m\u001b[0;34m)\u001b[0m\u001b[0;34m,\u001b[0m\u001b[0mfloat\u001b[0m\u001b[0;34m(\u001b[0m\u001b[0;36m300\u001b[0m\u001b[0;34m)\u001b[0m\u001b[0;34m)\u001b[0m \u001b[0;31m#300 represents number of points to make between T.min and T.max\u001b[0m\u001b[0;34m\u001b[0m\u001b[0;34m\u001b[0m\u001b[0m\n\u001b[0m\u001b[1;32m      3\u001b[0m \u001b[0;34m\u001b[0m\u001b[0m\n\u001b[1;32m      4\u001b[0m \u001b[0mspl\u001b[0m \u001b[0;34m=\u001b[0m \u001b[0mmake_interp_spline\u001b[0m\u001b[0;34m(\u001b[0m\u001b[0mT\u001b[0m\u001b[0;34m,\u001b[0m \u001b[0mpower\u001b[0m\u001b[0;34m,\u001b[0m \u001b[0mk\u001b[0m\u001b[0;34m=\u001b[0m\u001b[0;36m3\u001b[0m\u001b[0;34m)\u001b[0m \u001b[0;31m#BSpline object\u001b[0m\u001b[0;34m\u001b[0m\u001b[0;34m\u001b[0m\u001b[0m\n\u001b[1;32m      5\u001b[0m \u001b[0mpower_smooth\u001b[0m \u001b[0;34m=\u001b[0m \u001b[0mspl\u001b[0m\u001b[0;34m(\u001b[0m\u001b[0mxnew\u001b[0m\u001b[0;34m)\u001b[0m\u001b[0;34m\u001b[0m\u001b[0;34m\u001b[0m\u001b[0m\n",
      "\u001b[0;32m<__array_function__ internals>\u001b[0m in \u001b[0;36mlinspace\u001b[0;34m(*args, **kwargs)\u001b[0m\n",
      "\u001b[0;32m/usr/local/lib/python3.7/dist-packages/numpy/core/function_base.py\u001b[0m in \u001b[0;36mlinspace\u001b[0;34m(start, stop, num, endpoint, retstep, dtype, axis)\u001b[0m\n\u001b[1;32m    133\u001b[0m     \u001b[0;31m# Convert float/complex array scalars to float, gh-3504\u001b[0m\u001b[0;34m\u001b[0m\u001b[0;34m\u001b[0m\u001b[0;34m\u001b[0m\u001b[0m\n\u001b[1;32m    134\u001b[0m     \u001b[0;31m# and make sure one can use variables that have an __array_interface__, gh-6634\u001b[0m\u001b[0;34m\u001b[0m\u001b[0;34m\u001b[0m\u001b[0;34m\u001b[0m\u001b[0m\n\u001b[0;32m--> 135\u001b[0;31m     \u001b[0mstart\u001b[0m \u001b[0;34m=\u001b[0m \u001b[0masanyarray\u001b[0m\u001b[0;34m(\u001b[0m\u001b[0mstart\u001b[0m\u001b[0;34m)\u001b[0m \u001b[0;34m*\u001b[0m \u001b[0;36m1.0\u001b[0m\u001b[0;34m\u001b[0m\u001b[0;34m\u001b[0m\u001b[0m\n\u001b[0m\u001b[1;32m    136\u001b[0m     \u001b[0mstop\u001b[0m  \u001b[0;34m=\u001b[0m \u001b[0masanyarray\u001b[0m\u001b[0;34m(\u001b[0m\u001b[0mstop\u001b[0m\u001b[0;34m)\u001b[0m  \u001b[0;34m*\u001b[0m \u001b[0;36m1.0\u001b[0m\u001b[0;34m\u001b[0m\u001b[0;34m\u001b[0m\u001b[0m\n\u001b[1;32m    137\u001b[0m \u001b[0;34m\u001b[0m\u001b[0m\n",
      "\u001b[0;31mTypeError\u001b[0m: can't multiply sequence by non-int of type 'float'"
     ]
    }
   ],
   "source": [
    "T = df\n",
    "xnew = np.linspace(T.min(),T.max(),float(300)) #300 represents number of points to make between T.min and T.max\n",
    "\n",
    "spl = make_interp_spline(T, power, k=3) #BSpline object\n",
    "power_smooth = spl(xnew)\n",
    "\n",
    "plt.plot(xnew,power_smooth)\n",
    "plt.show()"
   ]
  },
  {
   "cell_type": "code",
   "execution_count": null,
   "metadata": {},
   "outputs": [],
   "source": []
  }
 ],
 "metadata": {
  "file_extension": ".py",
  "kernelspec": {
   "display_name": "Python 3",
   "language": "python",
   "name": "python3"
  },
  "language_info": {
   "codemirror_mode": {
    "name": "ipython",
    "version": 3
   },
   "file_extension": ".py",
   "mimetype": "text/x-python",
   "name": "python",
   "nbconvert_exporter": "python",
   "pygments_lexer": "ipython3",
   "version": "3.7.3"
  },
  "mimetype": "text/x-python",
  "name": "python",
  "npconvert_exporter": "python",
  "pygments_lexer": "ipython3",
  "version": 3
 },
 "nbformat": 4,
 "nbformat_minor": 2
}
